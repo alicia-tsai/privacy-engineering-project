{
 "cells": [
  {
   "cell_type": "code",
   "execution_count": 2,
   "metadata": {},
   "outputs": [],
   "source": [
    "import numpy as np\n",
    "import pandas as pd\n",
    "from matplotlib import pyplot as plt\n",
    "import seaborn as sns\n",
    "sns.set()\n",
    "%matplotlib inline"
   ]
  },
  {
   "cell_type": "code",
   "execution_count": 43,
   "metadata": {},
   "outputs": [],
   "source": [
    "waitlist1 = pd.read_csv(\"data/Waitlist___Organ_by_Age,_Ethnicity.csv\")\n",
    "waitlist1.dropna(how='all', inplace=True)\n",
    "waitlist1.fillna(method='ffill', inplace=True)\n",
    "waitlist1.replace(\",\", \"\", regex=True, inplace=True)\n",
    "for col in waitlist1.columns[2:]:\n",
    "    waitlist1[col] = waitlist1[col].astype(\"float\") "
   ]
  },
  {
   "cell_type": "code",
   "execution_count": 78,
   "metadata": {},
   "outputs": [],
   "source": [
    "def recursive_l_diverse(group):\n",
    "    sorted_group = group.iloc[0, 3:].sort_values(ascending=False)\n",
    "    if np.sum(sorted_group[1:]) == 0:\n",
    "        return np.inf\n",
    "    else:\n",
    "        return sorted_group[0] / np.sum(sorted_group[1:])\n",
    "    #display(group.iloc[0, 3:].sort_values(ascending=False))\n",
    "\n",
    "    \n",
    "def distinct_l_diverse(group):\n",
    "    return np.sum(group.iloc[0, 3:] > 0)\n",
    "\n",
    "\n",
    "def entropy_l_diverse(group):\n",
    "    qblock = group.iloc[0, 3:]\n",
    "    p = qblock / qblock.sum()\n",
    "    return - np.sum(p * np.log(p))"
   ]
  },
  {
   "cell_type": "code",
   "execution_count": 92,
   "metadata": {},
   "outputs": [],
   "source": [
    "# waitlist positive disclosure\n",
    "result = pd.DataFrame(waitlist1.groupby(by=['Waitlist Age', 'Waitlist Ethnicity']) \\\n",
    "                      .apply(distinct_l_diverse)).reset_index()\n",
    "\n",
    "result.columns = [\"Waitlist Age\", \"Waitlist Ethnicity\", \"Distinct L Diversity\"]\n",
    "result = result[result[\"Distinct L Diversity\"] == 1]"
   ]
  },
  {
   "cell_type": "code",
   "execution_count": 95,
   "metadata": {},
   "outputs": [],
   "source": [
    "for index, row in result.iterrows():\n",
    "    mask1 = waitlist1[\"Waitlist Age\"] == row[0]\n",
    "    mask2 = waitlist1[\"Waitlist Ethnicity\"] == row[1]\n",
    "    query = waitlist1[mask1 & mask2]"
   ]
  },
  {
   "cell_type": "code",
   "execution_count": 86,
   "metadata": {},
   "outputs": [
    {
     "name": "stderr",
     "output_type": "stream",
     "text": [
      "/Library/Frameworks/Python.framework/Versions/3.6/lib/python3.6/site-packages/ipykernel_launcher.py:17: RuntimeWarning: divide by zero encountered in log\n"
     ]
    },
    {
     "data": {
      "text/html": [
       "<div>\n",
       "<style scoped>\n",
       "    .dataframe tbody tr th:only-of-type {\n",
       "        vertical-align: middle;\n",
       "    }\n",
       "\n",
       "    .dataframe tbody tr th {\n",
       "        vertical-align: top;\n",
       "    }\n",
       "\n",
       "    .dataframe thead th {\n",
       "        text-align: right;\n",
       "    }\n",
       "</style>\n",
       "<table border=\"1\" class=\"dataframe\">\n",
       "  <thead>\n",
       "    <tr style=\"text-align: right;\">\n",
       "      <th></th>\n",
       "      <th>Waitlist Age</th>\n",
       "      <th>Waitlist Ethnicity</th>\n",
       "      <th>Entropy L Diversity</th>\n",
       "    </tr>\n",
       "  </thead>\n",
       "  <tbody>\n",
       "    <tr>\n",
       "      <th>6</th>\n",
       "      <td>1-5 Years</td>\n",
       "      <td>Pacific Islander</td>\n",
       "      <td>-0.000000</td>\n",
       "    </tr>\n",
       "    <tr>\n",
       "      <th>30</th>\n",
       "      <td>35-49 Years</td>\n",
       "      <td>Pacific Islander</td>\n",
       "      <td>0.285792</td>\n",
       "    </tr>\n",
       "    <tr>\n",
       "      <th>38</th>\n",
       "      <td>50-64 Years</td>\n",
       "      <td>Pacific Islander</td>\n",
       "      <td>0.244870</td>\n",
       "    </tr>\n",
       "    <tr>\n",
       "      <th>41</th>\n",
       "      <td>6-10 Years</td>\n",
       "      <td>American Indian/Alaska Native</td>\n",
       "      <td>-0.000000</td>\n",
       "    </tr>\n",
       "    <tr>\n",
       "      <th>51</th>\n",
       "      <td>65</td>\n",
       "      <td>Black</td>\n",
       "      <td>0.269891</td>\n",
       "    </tr>\n",
       "    <tr>\n",
       "      <th>54</th>\n",
       "      <td>65</td>\n",
       "      <td>Pacific Islander</td>\n",
       "      <td>0.234638</td>\n",
       "    </tr>\n",
       "  </tbody>\n",
       "</table>\n",
       "</div>"
      ],
      "text/plain": [
       "   Waitlist Age             Waitlist Ethnicity  Entropy L Diversity\n",
       "6     1-5 Years               Pacific Islander            -0.000000\n",
       "30  35-49 Years               Pacific Islander             0.285792\n",
       "38  50-64 Years               Pacific Islander             0.244870\n",
       "41   6-10 Years  American Indian/Alaska Native            -0.000000\n",
       "51           65                          Black             0.269891\n",
       "54           65               Pacific Islander             0.234638"
      ]
     },
     "execution_count": 86,
     "metadata": {},
     "output_type": "execute_result"
    }
   ],
   "source": [
    "result1 = pd.DataFrame(waitlist1.groupby(by=['Waitlist Age', 'Waitlist Ethnicity']) \\\n",
    "                      .apply(entropy_l_diverse)).reset_index()\n",
    "\n",
    "result1.columns = [\"Waitlist Age\", \"Waitlist Ethnicity\", \"Entropy L Diversity\"]\n",
    "result1[result1[\"Entropy L Diversity\"] <= 0.3]"
   ]
  },
  {
   "cell_type": "code",
   "execution_count": null,
   "metadata": {},
   "outputs": [],
   "source": []
  }
 ],
 "metadata": {
  "kernelspec": {
   "display_name": "Python 3",
   "language": "python",
   "name": "python3"
  },
  "language_info": {
   "codemirror_mode": {
    "name": "ipython",
    "version": 3
   },
   "file_extension": ".py",
   "mimetype": "text/x-python",
   "name": "python",
   "nbconvert_exporter": "python",
   "pygments_lexer": "ipython3",
   "version": "3.6.2"
  }
 },
 "nbformat": 4,
 "nbformat_minor": 2
}
